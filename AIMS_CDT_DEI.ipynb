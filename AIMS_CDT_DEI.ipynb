{
  "nbformat": 4,
  "nbformat_minor": 0,
  "metadata": {
    "colab": {
      "name": "AIMS CDT - DEI.ipynb",
      "provenance": []
    },
    "kernelspec": {
      "name": "python3",
      "display_name": "Python 3"
    }
  },
  "cells": [
    {
      "cell_type": "markdown",
      "metadata": {
        "id": "tRv_d57lWnu-"
      },
      "source": [
        "## **Load in data**"
      ]
    },
    {
      "cell_type": "code",
      "metadata": {
        "id": "dpFX2eV6j0a5",
        "outputId": "0626a88b-5e91-4a52-a4b4-4f8cb8a0ae46",
        "colab": {
          "base_uri": "https://localhost:8080/",
          "height": 238
        }
      },
      "source": [
        "%load_ext autoreload\n",
        "%autoreload 2\n",
        "\n",
        "import numpy as np\n",
        "import pandas as pd\n",
        "import pylab\n",
        "from sklearn import preprocessing\n",
        "import dateutil.parser as dp\n",
        "from GP import * \n",
        "\n",
        "\n",
        "\n",
        "data_url = 'http://www.robots.ox.ac.uk/~mosb/teaching/AIMS_CDT/sotonmet.txt'\n",
        "data = pd.read_csv(data_url)\n",
        "\n",
        "print(data.columns)\n",
        "\n",
        "# Time in days since first reading\n",
        "t = data['Reading Date and Time (ISO)']\n",
        "t = [int(dp.parse(x).strftime('%s')) for x in t]\n",
        "t = [float(x - t[0])/86400 for x in t]\n",
        "\n",
        "# Training and test data\n",
        "y = data['Tide height (m)']\n",
        "ytrue = data['True tide height (m)']\n",
        "\n",
        "# Remove missing data points\n",
        "data_train = [(t[i], y[i]) for i in range(len(t)) if not np.isnan(y[i])]\n",
        "data_test = [(t[i], ytrue[i]) for i in range(len(t)) if not np.isnan(ytrue[i])]\n",
        "t, y = [x[0] for x in data_train], [x[1] for x in data_train]\n",
        "ttrue, ytrue = [x[0] for x in data_test], [x[1] for x in data_test]\n",
        "\n",
        "# Normalise both datasetts\n",
        "mean, stdev = np.mean(y), np.std(y)\n",
        "y = [(yi - mean) / stdev for yi in y]\n",
        "ytrue = [(yi - mean) / stdev for yi in ytrue]\n",
        "\n"
      ],
      "execution_count": 20,
      "outputs": [
        {
          "output_type": "stream",
          "name": "stdout",
          "text": [
            "The autoreload extension is already loaded. To reload it, use:\n  %reload_ext autoreload\nIndex(['Update Date and Time (ISO)', 'Update Duration (ms)',\n       'Reading Date and Time (ISO)', 'Air pressure (mb)',\n       'Air temperature (C)', 'Tide height (m)', 'Wind direction (deg)',\n       'Wind gust speed (kn)', 'Wind speed (kn)', 'True air temperature (C)',\n       'True tide height (m)', 'Independent tide height prediction (m)',\n       'Independent tide height deviation (m)',\n       'Dependent tide height prediction (m)',\n       'Dependent tide height deviation (m)',\n       'Independent air temperature prediction (C)',\n       'Independent air temperature deviation (C)',\n       'Dependent air temperature prediction (C)',\n       'Dependent air temperature deviation (C)'],\n      dtype='object')\n"
          ]
        }
      ]
    },
    {
      "cell_type": "markdown",
      "metadata": {
        "id": "PL4bqbigWyqW"
      },
      "source": [
        "## **Initial Test**\n",
        "\n",
        "Hyperparameters chosen manually to provide a reasonable fit to the data, using a summed RBF kernel and periodic kernel."
      ]
    },
    {
      "source": [
        "# Plot width and height in inches\n",
        "width, height = 16, 8\n",
        "pylab.rcParams['figure.figsize'] = width, height\n",
        "\n",
        "# RBF kernel - sigma_f, L\n",
        "kernel = Kernel()\n",
        "kernel.addKernel(\"RBF\", 1.0, 0.02)\n",
        "# kernel.addKernel(\"RBF\", 1, 0.05) # good\n",
        "\n",
        "# Periodic kernel - sigma_f, L, p\n",
        "kernel.addKernel(\"periodic\", 1, 0.4, 0.5175)\n",
        "\n",
        "# input data\n",
        "# points = 5\n",
        "X = t\n",
        "Y = y\n",
        "Xs = np.linspace(-1, 6, 500)\n",
        "jitter = 0.1\n",
        "\n",
        "# mean and covariance functions\n",
        "mu = np.zeros(len(X))\n",
        "K = kernel(X, X)\n",
        "\n",
        "# Points of interest\n",
        "mu, sigma = GetPosteriorPredictive(X, Y, Xs, kernel, jitter)\n",
        "\n",
        "# Uncertainties (sigma and 2sigma)\n",
        "y1 = np.array([mu[i] + 2 * sigma[i][i] for i in range(len(Xs))])\n",
        "y2 = np.array([mu[i] - 2 * sigma[i][i] for i in range(len(Xs))])\n",
        "pylab.fill_between(Xs, y1, y2, linewidth=0, color='blue', alpha=0.1, label='2 SD')\n",
        "y1 = np.array([mu[i] + 1 * sigma[i][i] for i in range(len(Xs))])\n",
        "y2 = np.array([mu[i] - 1 * sigma[i][i] for i in range(len(Xs))])\n",
        "pylab.fill_between(Xs, y1, y2, linewidth=0, color='blue', alpha=0.2, label='1 SD')\n",
        "\n",
        "# measurements and truth data\n",
        "pylab.plot(t, y, '.r', label='training data')\n",
        "pylab.plot(ttrue, ytrue, '.b', label='test data')\n",
        "\n",
        "# mean function\n",
        "pylab.plot(Xs, mu, '-r', alpha=0.5, label='mean function')\n",
        "\n",
        "# function draws\n",
        "draws = 0\n",
        "for i in range(draws):\n",
        "    fs = GetFunctionSample(mu, sigma)\n",
        "    pylab.plot(Xs, fs, color='green', alpha=0.3, label='function draws')\n",
        "\n",
        "pylab.legend(loc='upper right')\n",
        "pylab.xlabel('time (days)')\n",
        "pylab.ylabel('tide height (normalised)')\n",
        "pylab.ylim((-5, 5))\n",
        "# pylab.xlim((3,4))\n",
        "\n",
        "pylab.show()"
      ],
      "cell_type": "code",
      "metadata": {
        "id": "DgEdrVg0tC96",
        "outputId": "67aaeda1-3142-44e3-d4dd-696bf32e4b35",
        "colab": {
          "base_uri": "https://localhost:8080/",
          "height": 497
        }
      },
      "execution_count": 21,
      "outputs": [
        {
          "output_type": "error",
          "ename": "AttributeError",
          "evalue": "'list' object has no attribute 'T'",
          "traceback": [
            "\u001b[0;31m---------------------------------------------------------------------------\u001b[0m",
            "\u001b[0;31mAttributeError\u001b[0m                            Traceback (most recent call last)",
            "\u001b[0;32m<ipython-input-21-19f32868de1c>\u001b[0m in \u001b[0;36m<module>\u001b[0;34m\u001b[0m\n\u001b[1;32m     23\u001b[0m \u001b[0;34m\u001b[0m\u001b[0m\n\u001b[1;32m     24\u001b[0m \u001b[0;31m# Points of interest\u001b[0m\u001b[0;34m\u001b[0m\u001b[0;34m\u001b[0m\u001b[0;34m\u001b[0m\u001b[0m\n\u001b[0;32m---> 25\u001b[0;31m \u001b[0mmu\u001b[0m\u001b[0;34m,\u001b[0m \u001b[0msigma\u001b[0m \u001b[0;34m=\u001b[0m \u001b[0mGetPosteriorPredictive\u001b[0m\u001b[0;34m(\u001b[0m\u001b[0mX\u001b[0m\u001b[0;34m,\u001b[0m \u001b[0mY\u001b[0m\u001b[0;34m,\u001b[0m \u001b[0mXs\u001b[0m\u001b[0;34m,\u001b[0m \u001b[0mkernel\u001b[0m\u001b[0;34m,\u001b[0m \u001b[0mjitter\u001b[0m\u001b[0;34m)\u001b[0m\u001b[0;34m\u001b[0m\u001b[0;34m\u001b[0m\u001b[0m\n\u001b[0m\u001b[1;32m     26\u001b[0m \u001b[0;34m\u001b[0m\u001b[0m\n\u001b[1;32m     27\u001b[0m \u001b[0;31m# Uncertainties (sigma and 2sigma)\u001b[0m\u001b[0;34m\u001b[0m\u001b[0;34m\u001b[0m\u001b[0;34m\u001b[0m\u001b[0m\n",
            "\u001b[0;32m~/Dropbox/Oxford/AIMS CDT/MT01 Data Estimation & Inference/AIMS-DEI/GP.py\u001b[0m in \u001b[0;36mGetPosteriorPredictive\u001b[0;34m(X, Y, Xs, kernel, jitter)\u001b[0m\n\u001b[1;32m     85\u001b[0m     \u001b[0mLinv\u001b[0m \u001b[0;34m=\u001b[0m \u001b[0mnp\u001b[0m\u001b[0;34m.\u001b[0m\u001b[0mlinalg\u001b[0m\u001b[0;34m.\u001b[0m\u001b[0minv\u001b[0m\u001b[0;34m(\u001b[0m\u001b[0mL\u001b[0m\u001b[0;34m)\u001b[0m\u001b[0;34m\u001b[0m\u001b[0;34m\u001b[0m\u001b[0m\n\u001b[1;32m     86\u001b[0m \u001b[0;34m\u001b[0m\u001b[0m\n\u001b[0;32m---> 87\u001b[0;31m     \u001b[0malpha\u001b[0m \u001b[0;34m=\u001b[0m \u001b[0mnp\u001b[0m\u001b[0;34m.\u001b[0m\u001b[0mdot\u001b[0m\u001b[0;34m(\u001b[0m\u001b[0mLinv\u001b[0m\u001b[0;34m.\u001b[0m\u001b[0mT\u001b[0m\u001b[0;34m,\u001b[0m \u001b[0mnp\u001b[0m\u001b[0;34m.\u001b[0m\u001b[0mdot\u001b[0m\u001b[0;34m(\u001b[0m\u001b[0mLinv\u001b[0m\u001b[0;34m,\u001b[0m \u001b[0mY\u001b[0m\u001b[0;34m.\u001b[0m\u001b[0mT\u001b[0m\u001b[0;34m)\u001b[0m\u001b[0;34m)\u001b[0m\u001b[0;34m\u001b[0m\u001b[0;34m\u001b[0m\u001b[0m\n\u001b[0m\u001b[1;32m     88\u001b[0m     \u001b[0mmu\u001b[0m \u001b[0;34m=\u001b[0m \u001b[0mnp\u001b[0m\u001b[0;34m.\u001b[0m\u001b[0mdot\u001b[0m\u001b[0;34m(\u001b[0m\u001b[0mKs\u001b[0m\u001b[0;34m.\u001b[0m\u001b[0mT\u001b[0m\u001b[0;34m,\u001b[0m \u001b[0malpha\u001b[0m\u001b[0;34m)\u001b[0m\u001b[0;34m\u001b[0m\u001b[0;34m\u001b[0m\u001b[0m\n\u001b[1;32m     89\u001b[0m \u001b[0;34m\u001b[0m\u001b[0m\n",
            "\u001b[0;31mAttributeError\u001b[0m: 'list' object has no attribute 'T'"
          ]
        }
      ]
    },
    {
      "cell_type": "code",
      "execution_count": null,
      "metadata": {},
      "outputs": [],
      "source": []
    }
  ]
}